{
 "cells": [
  {
   "cell_type": "markdown",
   "metadata": {},
   "source": [
    "### Project 3 The First Step Act \n",
    "\n",
    "Signed into law December 21st, 2018\n",
    "\n",
    "#### Links: \n",
    "\n",
    "Propublica\n",
    "\n",
    "[Propublica API](https://projects.propublica.org/api-docs/congress-api/)\n",
    "\n",
    "Federal Bureau of Prisons\n",
    "\n",
    "[Federal Bureau of prisons private prison statistics](http://www.bop.gov/PublicInfo/execute/locations/?todo=query&output=json)\n",
    "\n",
    "Federal Private Prison PAC Donations\n",
    "\n",
    "- GEO Group is a Florida-based company specializing in privatized corrections, detention, and mental health treatment. \n",
    "- GEO Group's contracts with the U.S. federal government for operating prisons generated about 45% of its revenues.\n",
    "[GEO Group PAC Donations](https://www.opensecrets.org/pacs/pacgot.php?cycle=2016&cmte=C00382150)\n",
    "- Core Civic is a company that owns and manages private prisons and detention centers and operates others on a concession basis.\n",
    "- As of 2016, the company is the second largest private corrections company in the United States.\n",
    "[CoreCivic PAC Donations](https://www.opensecrets.org/pacs/pacgot.php?cycle=2016&cmte=C00382150)\n",
    "\n",
    "FBI Uniform Crime Reporting: Violent Crime Rate by State\n",
    "\n",
    "- Survey time period: 2017\n",
    "- Rates are the number of reported offenses per 100,000 of the population.\n",
    "\n",
    "- In the FBI’s Uniform Crime Reporting (UCR) Program, violent crime is composed of four offenses: murder and nonnegligent manslaughter, forcible rape, robbery, and aggravated assault. Violent crimes are defined in the UCR Program as those offenses which involve force or threat of force. Due to changes in the state/local agency's reporting practices, figures are not comparable to previous years' data.\n",
    "\n",
    "[FBI Uniform Crime Reporting](https://ucr.fbi.gov/crime-in-the-u.s/2017/crime-in-the-u.s.-2017/topic-pages/violent-crime)\n"
   ]
  },
  {
   "cell_type": "code",
   "execution_count": null,
   "metadata": {},
   "outputs": [],
   "source": []
  }
 ],
 "metadata": {
  "kernelspec": {
   "display_name": "Python 3",
   "language": "python",
   "name": "python3"
  },
  "language_info": {
   "codemirror_mode": {
    "name": "ipython",
    "version": 3
   },
   "file_extension": ".py",
   "mimetype": "text/x-python",
   "name": "python",
   "nbconvert_exporter": "python",
   "pygments_lexer": "ipython3",
   "version": "3.6.6"
  }
 },
 "nbformat": 4,
 "nbformat_minor": 2
}
